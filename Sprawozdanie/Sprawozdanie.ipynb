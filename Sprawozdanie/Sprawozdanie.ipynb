{
 "cells": [
  {
   "cell_type": "markdown",
   "metadata": {},
   "source": [
    "# Sprawodzanie - mnożenie macierzy"
   ]
  },
  {
   "cell_type": "markdown",
   "metadata": {},
   "source": [
    "Kod i wykonanie: Sebastian Kaczor"
   ]
  },
  {
   "cell_type": "code",
   "execution_count": 2,
   "metadata": {},
   "outputs": [],
   "source": [
    "import numpy as np\n",
    "import matplotlib.pyplot as plt\n",
    "import pandas as pd\n",
    "%matplotlib inline"
   ]
  },
  {
   "cell_type": "markdown",
   "metadata": {},
   "source": [
    "## Opis maszyny\n",
    "\n",
    "Parametry komputera którego używałem do obliczeń:\n",
    "\n",
    "* Procesor Intel Core i7-7700\n",
    "   * 4 rdzenie\n",
    "   * 4 GHz\n",
    "   * Hyper threading wyłączony\n",
    "   * Cache\n",
    "       * 32KB L1 Data + 32KB L1 Instruction\n",
    "       * 256KB L2 \n",
    "       * 8 MB L3 (współdzielona pomiędzy rdzeniami)\n",
    "       * 64B cache line\n",
    "* 16GB RAM DDR4\n",
    "    * Rozmiar strony 4KB\n",
    "    * Data TLB L1: 64 items (na rdzeń)\n",
    "    * Data TLB L2: 1536 items (współdzielone)\n",
    "* NVIDIA GeForce 1080 Ti\n",
    "    * Pamięć 11 GB GDDR5X\n",
    "    * 28 SM\n",
    "    * 3584 Rdzeni CUDA (128/SM)"
   ]
  },
  {
   "cell_type": "markdown",
   "metadata": {},
   "source": [
    "# CPU"
   ]
  },
  {
   "cell_type": "markdown",
   "metadata": {},
   "source": [
    "## Analiza szybkości"
   ]
  },
  {
   "cell_type": "code",
   "execution_count": 3,
   "metadata": {},
   "outputs": [],
   "source": [
    "data = pd.read_csv(\"Dane.csv\",index_col=None)"
   ]
  },
  {
   "cell_type": "code",
   "execution_count": 85,
   "metadata": {},
   "outputs": [
    {
     "data": {
      "text/plain": [
       "Index(['Algorithm', 'Size', 'Total bytes', 'Total time[us]', 'Tests',\n",
       "       'Time per test', 'Time per elem'],\n",
       "      dtype='object')"
      ]
     },
     "execution_count": 85,
     "metadata": {},
     "output_type": "execute_result"
    }
   ],
   "source": [
    "data.columns"
   ]
  },
  {
   "cell_type": "code",
   "execution_count": 105,
   "metadata": {
    "scrolled": true
   },
   "outputs": [
    {
     "data": {
      "text/html": [
       "<div>\n",
       "<style scoped>\n",
       "    .dataframe tbody tr th:only-of-type {\n",
       "        vertical-align: middle;\n",
       "    }\n",
       "\n",
       "    .dataframe tbody tr th {\n",
       "        vertical-align: top;\n",
       "    }\n",
       "\n",
       "    .dataframe thead th {\n",
       "        text-align: right;\n",
       "    }\n",
       "</style>\n",
       "<table border=\"1\" class=\"dataframe\">\n",
       "  <thead>\n",
       "    <tr style=\"text-align: right;\">\n",
       "      <th></th>\n",
       "      <th>Algorithm</th>\n",
       "      <th>Size</th>\n",
       "      <th>Total bytes</th>\n",
       "      <th>Total time[us]</th>\n",
       "      <th>Tests</th>\n",
       "      <th>Time per test</th>\n",
       "      <th>Time per elem</th>\n",
       "    </tr>\n",
       "  </thead>\n",
       "  <tbody>\n",
       "    <tr>\n",
       "      <th>0</th>\n",
       "      <td>JKI</td>\n",
       "      <td>1</td>\n",
       "      <td>12</td>\n",
       "      <td>13.17230</td>\n",
       "      <td>16777216</td>\n",
       "      <td>7.851310e-07</td>\n",
       "      <td>7.851310e-07</td>\n",
       "    </tr>\n",
       "    <tr>\n",
       "      <th>1</th>\n",
       "      <td>IKJ</td>\n",
       "      <td>1</td>\n",
       "      <td>12</td>\n",
       "      <td>13.06220</td>\n",
       "      <td>16777216</td>\n",
       "      <td>7.785700e-07</td>\n",
       "      <td>7.785700e-07</td>\n",
       "    </tr>\n",
       "    <tr>\n",
       "      <th>2</th>\n",
       "      <td>IJK</td>\n",
       "      <td>1</td>\n",
       "      <td>12</td>\n",
       "      <td>0.03776</td>\n",
       "      <td>16777216</td>\n",
       "      <td>2.250690e-09</td>\n",
       "      <td>2.250690e-09</td>\n",
       "    </tr>\n",
       "    <tr>\n",
       "      <th>3</th>\n",
       "      <td>JKI</td>\n",
       "      <td>1</td>\n",
       "      <td>12</td>\n",
       "      <td>8.60158</td>\n",
       "      <td>11863283</td>\n",
       "      <td>7.250590e-07</td>\n",
       "      <td>7.250590e-07</td>\n",
       "    </tr>\n",
       "    <tr>\n",
       "      <th>4</th>\n",
       "      <td>IKJ</td>\n",
       "      <td>1</td>\n",
       "      <td>12</td>\n",
       "      <td>8.91937</td>\n",
       "      <td>11863283</td>\n",
       "      <td>7.518470e-07</td>\n",
       "      <td>7.518470e-07</td>\n",
       "    </tr>\n",
       "  </tbody>\n",
       "</table>\n",
       "</div>"
      ],
      "text/plain": [
       "  Algorithm  Size  Total bytes  Total time[us]     Tests  Time per test  \\\n",
       "0       JKI     1           12        13.17230  16777216   7.851310e-07   \n",
       "1       IKJ     1           12        13.06220  16777216   7.785700e-07   \n",
       "2       IJK     1           12         0.03776  16777216   2.250690e-09   \n",
       "3       JKI     1           12         8.60158  11863283   7.250590e-07   \n",
       "4       IKJ     1           12         8.91937  11863283   7.518470e-07   \n",
       "\n",
       "   Time per elem  \n",
       "0   7.851310e-07  \n",
       "1   7.785700e-07  \n",
       "2   2.250690e-09  \n",
       "3   7.250590e-07  \n",
       "4   7.518470e-07  "
      ]
     },
     "execution_count": 105,
     "metadata": {},
     "output_type": "execute_result"
    }
   ],
   "source": [
    "data.head()"
   ]
  },
  {
   "cell_type": "code",
   "execution_count": 94,
   "metadata": {},
   "outputs": [],
   "source": [
    "data_ijk = data.loc[data['Algorithm']=='IJK']\n",
    "data_jki = data.loc[data['Algorithm']=='JKI']\n",
    "data_ikj = data.loc[data['Algorithm']=='IKJ']"
   ]
  },
  {
   "cell_type": "markdown",
   "metadata": {},
   "source": [
    "### Czas operacji w zależności do rozmiaru boku macierzy"
   ]
  },
  {
   "cell_type": "code",
   "execution_count": 96,
   "metadata": {
    "scrolled": true
   },
   "outputs": [
    {
     "data": {
      "text/plain": [
       "<matplotlib.legend.Legend at 0x28891243978>"
      ]
     },
     "execution_count": 96,
     "metadata": {},
     "output_type": "execute_result"
    },
    {
     "data": {
      "image/png": "[encoded data removed]",
      "text/plain": [
       "<matplotlib.figure.Figure at 0x288911e06a0>"
      ]
     },
     "metadata": {},
     "output_type": "display_data"
    }
   ],
   "source": [
    "plt.grid(True)\n",
    "plt.xlabel(\"Rozmiar boku macierzy\")\n",
    "plt.ylabel(\"Czas operacji [s]\")\n",
    "plt.scatter(data_ijk['Size'], data_ijk['Time per test'], label=\"IJK\")\n",
    "plt.scatter(data_jki['Size'], data_jki['Time per test'], label=\"JKI\")\n",
    "plt.scatter(data_ikj['Size'], data_ikj['Time per test'], label=\"IKJ\")\n",
    "plt.legend()"
   ]
  },
  {
   "cell_type": "markdown",
   "metadata": {},
   "source": [
    "### Czas operacji w przeliczeniu na element"
   ]
  },
  {
   "cell_type": "code",
   "execution_count": 99,
   "metadata": {
    "scrolled": true
   },
   "outputs": [
    {
     "data": {
      "text/plain": [
       "<matplotlib.legend.Legend at 0x28894371da0>"
      ]
     },
     "execution_count": 99,
     "metadata": {},
     "output_type": "execute_result"
    },
    {
     "data": {
      "image/png": "[encoded data removed]",
      "text/plain": [
       "<matplotlib.figure.Figure at 0x28891303198>"
      ]
     },
     "metadata": {},
     "output_type": "display_data"
    }
   ],
   "source": [
    "plt.grid(True)\n",
    "plt.xlabel(\"Rozmiar boku macierzy\")\n",
    "plt.ylabel(\"Czas operacji/element [us]\")\n",
    "plt.scatter(data_ijk['Size'], data_ijk['Time per elem']*1e6, label=\"IJK\")\n",
    "plt.scatter(data_jki['Size'], data_jki['Time per elem']*1e6, label=\"JKI\")\n",
    "plt.scatter(data_ikj['Size'], data_ikj['Time per elem']*1e6, label=\"IKJ\")\n",
    "plt.legend()"
   ]
  },
  {
   "cell_type": "markdown",
   "metadata": {},
   "source": [
    "## To samo, bez ostatniego rozmiaru"
   ]
  },
  {
   "cell_type": "markdown",
   "metadata": {},
   "source": [
    "### Czas operacji w zależności do rozmiaru boku macierzy"
   ]
  },
  {
   "cell_type": "code",
   "execution_count": 100,
   "metadata": {},
   "outputs": [],
   "source": [
    "data_ijk_filtered = data_ijk[:-1] \n",
    "data_jki_filtered = data_jki[:-1] \n",
    "data_ikj_filtered = data_ikj[:-1] "
   ]
  },
  {
   "cell_type": "code",
   "execution_count": 104,
   "metadata": {
    "scrolled": true
   },
   "outputs": [
    {
     "data": {
      "text/plain": [
       "<matplotlib.legend.Legend at 0x28894472198>"
      ]
     },
     "execution_count": 104,
     "metadata": {},
     "output_type": "execute_result"
    },
    {
     "data": {
      "image/png": "[encoded data removed]",
      "text/plain": [
       "<matplotlib.figure.Figure at 0x2889449b6a0>"
      ]
     },
     "metadata": {},
     "output_type": "display_data"
    }
   ],
   "source": [
    "plt.grid(True)\n",
    "plt.xlabel(\"Rozmiar boku macierzy\")\n",
    "plt.ylabel(\"Czas operacji [s]\")\n",
    "plt.scatter(data_ijk_filtered['Size'], data_ijk_filtered['Time per test'], label=\"IJK\")\n",
    "plt.scatter(data_jki_filtered['Size'], data_jki_filtered['Time per test'], label=\"JKI\")\n",
    "plt.scatter(data_ikj_filtered['Size'], data_ikj_filtered['Time per test'], label=\"IKJ\")\n",
    "plt.legend()"
   ]
  },
  {
   "cell_type": "markdown",
   "metadata": {},
   "source": [
    "### Czas operacji w przeliczeniu na element"
   ]
  },
  {
   "cell_type": "code",
   "execution_count": 103,
   "metadata": {
    "scrolled": true
   },
   "outputs": [
    {
     "data": {
      "text/plain": [
       "<matplotlib.legend.Legend at 0x288944acfd0>"
      ]
     },
     "execution_count": 103,
     "metadata": {},
     "output_type": "execute_result"
    },
    {
     "data": {
      "image/png": "[encoded data removed]",
      "text/plain": [
       "<matplotlib.figure.Figure at 0x2889442a908>"
      ]
     },
     "metadata": {},
     "output_type": "display_data"
    }
   ],
   "source": [
    "plt.grid(True)\n",
    "plt.xlabel(\"Rozmiar boku macierzy\")\n",
    "plt.ylabel(\"Czas operacji/element [us]\")\n",
    "plt.scatter(data_ijk_filtered['Size'], data_ijk_filtered['Time per elem']*1e6, label=\"IJK\")\n",
    "plt.scatter(data_jki_filtered['Size'], data_jki_filtered['Time per elem']*1e6, label=\"JKI\")\n",
    "plt.scatter(data_ikj_filtered['Size'], data_ikj_filtered['Time per elem']*1e6, label=\"IKJ\")\n",
    "plt.legend()"
   ]
  },
  {
   "cell_type": "markdown",
   "metadata": {},
   "source": [
    "## Analiza maksymalnych osiągnięć"
   ]
  },
  {
   "cell_type": "markdown",
   "metadata": {},
   "source": [
    "### Minimalny czas operacji/element"
   ]
  },
  {
   "cell_type": "code",
   "execution_count": 114,
   "metadata": {},
   "outputs": [
    {
     "data": {
      "text/plain": [
       "Algorithm                 IJK\n",
       "Size                        1\n",
       "Total bytes                12\n",
       "Total time[us]      0.0188772\n",
       "Tests                 8388607\n",
       "Time per test     2.25033e-09\n",
       "Time per elem     2.25033e-09\n",
       "Name: 8, dtype: object"
      ]
     },
     "execution_count": 114,
     "metadata": {},
     "output_type": "execute_result"
    }
   ],
   "source": [
    "data.loc[data['Time per elem'].idxmin()]"
   ]
  },
  {
   "cell_type": "markdown",
   "metadata": {},
   "source": [
    "Najszybciej wykonało się mnożenie pojedyńczego elementu na jednym wątku. Nie ma w tym nic dziwnego, najprawdopodobniej element ten został raz załadowany do rejestrów CPU, więc obliczenia z jego użyciem były bardzo szybkie. Nie ma też żadnego narzutu ze strony wielowątkowości.<br><br>\n",
    "Właściwie to nie interesuje nas najszybciej obliczony output, ale najwięcej obliczeń w danym czasie, więc trzeba uwzględnić również ilość obliczeń konieczną do wyliczenia jednego elementu."
   ]
  },
  {
   "cell_type": "markdown",
   "metadata": {},
   "source": [
    "### Ilość operacji na sekundę"
   ]
  },
  {
   "cell_type": "code",
   "execution_count": 157,
   "metadata": {},
   "outputs": [
    {
     "data": {
      "text/html": [
       "<div>\n",
       "<style scoped>\n",
       "    .dataframe tbody tr th:only-of-type {\n",
       "        vertical-align: middle;\n",
       "    }\n",
       "\n",
       "    .dataframe tbody tr th {\n",
       "        vertical-align: top;\n",
       "    }\n",
       "\n",
       "    .dataframe thead th {\n",
       "        text-align: right;\n",
       "    }\n",
       "</style>\n",
       "<table border=\"1\" class=\"dataframe\">\n",
       "  <thead>\n",
       "    <tr style=\"text-align: right;\">\n",
       "      <th></th>\n",
       "      <th>Algorithm</th>\n",
       "      <th>Size</th>\n",
       "      <th>Total bytes</th>\n",
       "      <th>Total time[us]</th>\n",
       "      <th>Tests</th>\n",
       "      <th>Time per test</th>\n",
       "      <th>Time per elem</th>\n",
       "      <th>Ops per output</th>\n",
       "      <th>Ops per second</th>\n",
       "    </tr>\n",
       "  </thead>\n",
       "  <tbody>\n",
       "    <tr>\n",
       "      <th>124</th>\n",
       "      <td>IKJ</td>\n",
       "      <td>1218</td>\n",
       "      <td>17802288</td>\n",
       "      <td>6.87501</td>\n",
       "      <td>11</td>\n",
       "      <td>0.625001</td>\n",
       "      <td>4.212950e-07</td>\n",
       "      <td>2436</td>\n",
       "      <td>5.782172e+09</td>\n",
       "    </tr>\n",
       "    <tr>\n",
       "      <th>133</th>\n",
       "      <td>IKJ</td>\n",
       "      <td>2048</td>\n",
       "      <td>50331648</td>\n",
       "      <td>8.91374</td>\n",
       "      <td>3</td>\n",
       "      <td>2.971250</td>\n",
       "      <td>7.084000e-07</td>\n",
       "      <td>4096</td>\n",
       "      <td>5.782044e+09</td>\n",
       "    </tr>\n",
       "    <tr>\n",
       "      <th>121</th>\n",
       "      <td>IKJ</td>\n",
       "      <td>1024</td>\n",
       "      <td>12582912</td>\n",
       "      <td>5.58512</td>\n",
       "      <td>15</td>\n",
       "      <td>0.372341</td>\n",
       "      <td>3.550930e-07</td>\n",
       "      <td>2048</td>\n",
       "      <td>5.767503e+09</td>\n",
       "    </tr>\n",
       "    <tr>\n",
       "      <th>130</th>\n",
       "      <td>IKJ</td>\n",
       "      <td>1722</td>\n",
       "      <td>35583408</td>\n",
       "      <td>8.85893</td>\n",
       "      <td>5</td>\n",
       "      <td>1.771790</td>\n",
       "      <td>5.975100e-07</td>\n",
       "      <td>3444</td>\n",
       "      <td>5.763920e+09</td>\n",
       "    </tr>\n",
       "    <tr>\n",
       "      <th>118</th>\n",
       "      <td>IKJ</td>\n",
       "      <td>861</td>\n",
       "      <td>8895852</td>\n",
       "      <td>4.88794</td>\n",
       "      <td>22</td>\n",
       "      <td>0.222179</td>\n",
       "      <td>2.997070e-07</td>\n",
       "      <td>1722</td>\n",
       "      <td>5.745612e+09</td>\n",
       "    </tr>\n",
       "    <tr>\n",
       "      <th>127</th>\n",
       "      <td>IKJ</td>\n",
       "      <td>1448</td>\n",
       "      <td>25160448</td>\n",
       "      <td>7.40948</td>\n",
       "      <td>7</td>\n",
       "      <td>1.058500</td>\n",
       "      <td>5.048390e-07</td>\n",
       "      <td>2896</td>\n",
       "      <td>5.736482e+09</td>\n",
       "    </tr>\n",
       "    <tr>\n",
       "      <th>115</th>\n",
       "      <td>IKJ</td>\n",
       "      <td>724</td>\n",
       "      <td>6290112</td>\n",
       "      <td>4.12074</td>\n",
       "      <td>31</td>\n",
       "      <td>0.132927</td>\n",
       "      <td>2.535930e-07</td>\n",
       "      <td>1448</td>\n",
       "      <td>5.709937e+09</td>\n",
       "    </tr>\n",
       "    <tr>\n",
       "      <th>106</th>\n",
       "      <td>IKJ</td>\n",
       "      <td>431</td>\n",
       "      <td>2229132</td>\n",
       "      <td>2.55925</td>\n",
       "      <td>90</td>\n",
       "      <td>0.028436</td>\n",
       "      <td>1.530790e-07</td>\n",
       "      <td>862</td>\n",
       "      <td>5.631079e+09</td>\n",
       "    </tr>\n",
       "    <tr>\n",
       "      <th>109</th>\n",
       "      <td>IKJ</td>\n",
       "      <td>512</td>\n",
       "      <td>3145728</td>\n",
       "      <td>3.00899</td>\n",
       "      <td>63</td>\n",
       "      <td>0.047762</td>\n",
       "      <td>1.821960e-07</td>\n",
       "      <td>1024</td>\n",
       "      <td>5.620321e+09</td>\n",
       "    </tr>\n",
       "    <tr>\n",
       "      <th>94</th>\n",
       "      <td>IKJ</td>\n",
       "      <td>215</td>\n",
       "      <td>554700</td>\n",
       "      <td>1.31418</td>\n",
       "      <td>362</td>\n",
       "      <td>0.003630</td>\n",
       "      <td>7.853610e-08</td>\n",
       "      <td>430</td>\n",
       "      <td>5.475189e+09</td>\n",
       "    </tr>\n",
       "  </tbody>\n",
       "</table>\n",
       "</div>"
      ],
      "text/plain": [
       "    Algorithm  Size  Total bytes  Total time[us]  Tests  Time per test  \\\n",
       "124       IKJ  1218     17802288         6.87501     11       0.625001   \n",
       "133       IKJ  2048     50331648         8.91374      3       2.971250   \n",
       "121       IKJ  1024     12582912         5.58512     15       0.372341   \n",
       "130       IKJ  1722     35583408         8.85893      5       1.771790   \n",
       "118       IKJ   861      8895852         4.88794     22       0.222179   \n",
       "127       IKJ  1448     25160448         7.40948      7       1.058500   \n",
       "115       IKJ   724      6290112         4.12074     31       0.132927   \n",
       "106       IKJ   431      2229132         2.55925     90       0.028436   \n",
       "109       IKJ   512      3145728         3.00899     63       0.047762   \n",
       "94        IKJ   215       554700         1.31418    362       0.003630   \n",
       "\n",
       "     Time per elem  Ops per output  Ops per second  \n",
       "124   4.212950e-07            2436    5.782172e+09  \n",
       "133   7.084000e-07            4096    5.782044e+09  \n",
       "121   3.550930e-07            2048    5.767503e+09  \n",
       "130   5.975100e-07            3444    5.763920e+09  \n",
       "118   2.997070e-07            1722    5.745612e+09  \n",
       "127   5.048390e-07            2896    5.736482e+09  \n",
       "115   2.535930e-07            1448    5.709937e+09  \n",
       "106   1.530790e-07             862    5.631079e+09  \n",
       "109   1.821960e-07            1024    5.620321e+09  \n",
       "94    7.853610e-08             430    5.475189e+09  "
      ]
     },
     "execution_count": 157,
     "metadata": {},
     "output_type": "execute_result"
    }
   ],
   "source": [
    "data['Ops per output'] = data['Size']*2\n",
    "data['Ops per second'] = data['Ops per output']/data['Time per elem']\n",
    "\n",
    "data1 = data.sort_values('Ops per second', ascending=False)\n",
    "data1.head(10)"
   ]
  },
  {
   "cell_type": "markdown",
   "metadata": {},
   "source": [
    "Duże macierze pozwalają w pełni wykorzystać potencjał zrównoleglania. Algorytm IKJ jest zdecydowanie jest zdecydowanie szybszy."
   ]
  },
  {
   "cell_type": "markdown",
   "metadata": {},
   "source": [
    "Liczba instrukcji na sekundę (2\\*n instrukcji na element: mnożenie i akumulacja) GFLOPS:"
   ]
  },
  {
   "cell_type": "code",
   "execution_count": 172,
   "metadata": {},
   "outputs": [
    {
     "data": {
      "text/plain": [
       "5.782171637451192"
      ]
     },
     "execution_count": 172,
     "metadata": {},
     "output_type": "execute_result"
    }
   ],
   "source": [
    "fastest = float(data1.head(1)['Ops per second']/1e9)\n",
    "fastest"
   ]
  },
  {
   "cell_type": "markdown",
   "metadata": {},
   "source": [
    "Dla analogicznego rozmiaru macierzy algorytm iteracyjny uzyskuje:"
   ]
  },
  {
   "cell_type": "code",
   "execution_count": 173,
   "metadata": {
    "scrolled": true
   },
   "outputs": [
    {
     "data": {
      "text/plain": [
       "0.7830732732848574"
      ]
     },
     "execution_count": 173,
     "metadata": {},
     "output_type": "execute_result"
    }
   ],
   "source": [
    "iterative_for_fastest = float(data1[(data1['Algorithm'] == \"IJK\") & (data1['Size']==1218)]['Ops per second']/1e9)\n",
    "iterative_for_fastest"
   ]
  },
  {
   "cell_type": "code",
   "execution_count": 201,
   "metadata": {},
   "outputs": [
    {
     "name": "stdout",
     "output_type": "stream",
     "text": [
      "Co daje 7.383947115441673x przyśpieszenia\n"
     ]
    }
   ],
   "source": [
    "print(\"Co daje {}x przyśpieszenia\".format(fastest/iterative_for_fastest))"
   ]
  },
  {
   "cell_type": "code",
   "execution_count": 202,
   "metadata": {},
   "outputs": [],
   "source": [
    "del data1"
   ]
  },
  {
   "cell_type": "markdown",
   "metadata": {},
   "source": [
    "## Porównanie przyśpieszenia"
   ]
  },
  {
   "cell_type": "code",
   "execution_count": 208,
   "metadata": {},
   "outputs": [],
   "source": [
    "iterative_speeds = data[data['Algorithm']=='IJK']['Time per elem']\n",
    "iterative_speeds = np.tile(iterative_speeds.values, (3,1)).swapaxes(0,1).reshape((-1))#repeat each element 3 times\n",
    "data['Parallel speedup'] = iterative_speeds/data['Time per elem']\n",
    "\n",
    "data_speedup_sorted = data[data['Algorithm']!='IJK'].sort_values('Parallel speedup')"
   ]
  },
  {
   "cell_type": "markdown",
   "metadata": {},
   "source": [
    "### Najgorsze przyśpieszenie\n",
    "Dla poniższy rozmiarów nie ma sensu używać algorytów równoleglych, ponieważ powodują spadek szybkości przetwarzania"
   ]
  },
  {
   "cell_type": "code",
   "execution_count": 211,
   "metadata": {
    "scrolled": false
   },
   "outputs": [
    {
     "data": {
      "text/html": [
       "<div>\n",
       "<style scoped>\n",
       "    .dataframe tbody tr th:only-of-type {\n",
       "        vertical-align: middle;\n",
       "    }\n",
       "\n",
       "    .dataframe tbody tr th {\n",
       "        vertical-align: top;\n",
       "    }\n",
       "\n",
       "    .dataframe thead th {\n",
       "        text-align: right;\n",
       "    }\n",
       "</style>\n",
       "<table border=\"1\" class=\"dataframe\">\n",
       "  <thead>\n",
       "    <tr style=\"text-align: right;\">\n",
       "      <th></th>\n",
       "      <th>Algorithm</th>\n",
       "      <th>Size</th>\n",
       "      <th>Total bytes</th>\n",
       "      <th>Total time[us]</th>\n",
       "      <th>Tests</th>\n",
       "      <th>Time per test</th>\n",
       "      <th>Time per elem</th>\n",
       "      <th>Ops per output</th>\n",
       "      <th>Ops per second</th>\n",
       "      <th>Parallel speedup</th>\n",
       "    </tr>\n",
       "  </thead>\n",
       "  <tbody>\n",
       "    <tr>\n",
       "      <th>6</th>\n",
       "      <td>JKI</td>\n",
       "      <td>1</td>\n",
       "      <td>12</td>\n",
       "      <td>6.615810</td>\n",
       "      <td>8388607</td>\n",
       "      <td>7.886660e-07</td>\n",
       "      <td>7.886660e-07</td>\n",
       "      <td>2</td>\n",
       "      <td>2.535928e+06</td>\n",
       "      <td>0.002853</td>\n",
       "    </tr>\n",
       "    <tr>\n",
       "      <th>0</th>\n",
       "      <td>JKI</td>\n",
       "      <td>1</td>\n",
       "      <td>12</td>\n",
       "      <td>13.172300</td>\n",
       "      <td>16777216</td>\n",
       "      <td>7.851310e-07</td>\n",
       "      <td>7.851310e-07</td>\n",
       "      <td>2</td>\n",
       "      <td>2.547346e+06</td>\n",
       "      <td>0.002867</td>\n",
       "    </tr>\n",
       "    <tr>\n",
       "      <th>1</th>\n",
       "      <td>IKJ</td>\n",
       "      <td>1</td>\n",
       "      <td>12</td>\n",
       "      <td>13.062200</td>\n",
       "      <td>16777216</td>\n",
       "      <td>7.785700e-07</td>\n",
       "      <td>7.785700e-07</td>\n",
       "      <td>2</td>\n",
       "      <td>2.568812e+06</td>\n",
       "      <td>0.002891</td>\n",
       "    </tr>\n",
       "    <tr>\n",
       "      <th>4</th>\n",
       "      <td>IKJ</td>\n",
       "      <td>1</td>\n",
       "      <td>12</td>\n",
       "      <td>8.919370</td>\n",
       "      <td>11863283</td>\n",
       "      <td>7.518470e-07</td>\n",
       "      <td>7.518470e-07</td>\n",
       "      <td>2</td>\n",
       "      <td>2.660116e+06</td>\n",
       "      <td>0.002995</td>\n",
       "    </tr>\n",
       "    <tr>\n",
       "      <th>7</th>\n",
       "      <td>IKJ</td>\n",
       "      <td>1</td>\n",
       "      <td>12</td>\n",
       "      <td>6.167200</td>\n",
       "      <td>8388607</td>\n",
       "      <td>7.351880e-07</td>\n",
       "      <td>7.351880e-07</td>\n",
       "      <td>2</td>\n",
       "      <td>2.720393e+06</td>\n",
       "      <td>0.003061</td>\n",
       "    </tr>\n",
       "    <tr>\n",
       "      <th>3</th>\n",
       "      <td>JKI</td>\n",
       "      <td>1</td>\n",
       "      <td>12</td>\n",
       "      <td>8.601580</td>\n",
       "      <td>11863283</td>\n",
       "      <td>7.250590e-07</td>\n",
       "      <td>7.250590e-07</td>\n",
       "      <td>2</td>\n",
       "      <td>2.758396e+06</td>\n",
       "      <td>0.003106</td>\n",
       "    </tr>\n",
       "    <tr>\n",
       "      <th>15</th>\n",
       "      <td>JKI</td>\n",
       "      <td>2</td>\n",
       "      <td>48</td>\n",
       "      <td>2.357230</td>\n",
       "      <td>2965820</td>\n",
       "      <td>7.948000e-07</td>\n",
       "      <td>1.987000e-07</td>\n",
       "      <td>4</td>\n",
       "      <td>2.013085e+07</td>\n",
       "      <td>0.016354</td>\n",
       "    </tr>\n",
       "    <tr>\n",
       "      <th>13</th>\n",
       "      <td>IKJ</td>\n",
       "      <td>2</td>\n",
       "      <td>48</td>\n",
       "      <td>3.297770</td>\n",
       "      <td>4194303</td>\n",
       "      <td>7.862510e-07</td>\n",
       "      <td>1.965630e-07</td>\n",
       "      <td>4</td>\n",
       "      <td>2.034971e+07</td>\n",
       "      <td>0.016521</td>\n",
       "    </tr>\n",
       "    <tr>\n",
       "      <th>16</th>\n",
       "      <td>IKJ</td>\n",
       "      <td>2</td>\n",
       "      <td>48</td>\n",
       "      <td>2.332520</td>\n",
       "      <td>2965820</td>\n",
       "      <td>7.864690e-07</td>\n",
       "      <td>1.966170e-07</td>\n",
       "      <td>4</td>\n",
       "      <td>2.034412e+07</td>\n",
       "      <td>0.016527</td>\n",
       "    </tr>\n",
       "    <tr>\n",
       "      <th>12</th>\n",
       "      <td>JKI</td>\n",
       "      <td>2</td>\n",
       "      <td>48</td>\n",
       "      <td>3.286300</td>\n",
       "      <td>4194303</td>\n",
       "      <td>7.835150e-07</td>\n",
       "      <td>1.958790e-07</td>\n",
       "      <td>4</td>\n",
       "      <td>2.042077e+07</td>\n",
       "      <td>0.016579</td>\n",
       "    </tr>\n",
       "    <tr>\n",
       "      <th>9</th>\n",
       "      <td>JKI</td>\n",
       "      <td>2</td>\n",
       "      <td>48</td>\n",
       "      <td>4.455160</td>\n",
       "      <td>5931641</td>\n",
       "      <td>7.510840e-07</td>\n",
       "      <td>1.877710e-07</td>\n",
       "      <td>4</td>\n",
       "      <td>2.130254e+07</td>\n",
       "      <td>0.017292</td>\n",
       "    </tr>\n",
       "    <tr>\n",
       "      <th>10</th>\n",
       "      <td>IKJ</td>\n",
       "      <td>2</td>\n",
       "      <td>48</td>\n",
       "      <td>4.408140</td>\n",
       "      <td>5931641</td>\n",
       "      <td>7.431570e-07</td>\n",
       "      <td>1.857890e-07</td>\n",
       "      <td>4</td>\n",
       "      <td>2.152980e+07</td>\n",
       "      <td>0.017477</td>\n",
       "    </tr>\n",
       "    <tr>\n",
       "      <th>18</th>\n",
       "      <td>JKI</td>\n",
       "      <td>3</td>\n",
       "      <td>108</td>\n",
       "      <td>1.744700</td>\n",
       "      <td>2097151</td>\n",
       "      <td>8.319370e-07</td>\n",
       "      <td>9.243740e-08</td>\n",
       "      <td>6</td>\n",
       "      <td>6.490879e+07</td>\n",
       "      <td>0.048617</td>\n",
       "    </tr>\n",
       "    <tr>\n",
       "      <th>19</th>\n",
       "      <td>IKJ</td>\n",
       "      <td>3</td>\n",
       "      <td>108</td>\n",
       "      <td>1.656010</td>\n",
       "      <td>2097151</td>\n",
       "      <td>7.896480e-07</td>\n",
       "      <td>8.773870e-08</td>\n",
       "      <td>6</td>\n",
       "      <td>6.838487e+07</td>\n",
       "      <td>0.051220</td>\n",
       "    </tr>\n",
       "    <tr>\n",
       "      <th>22</th>\n",
       "      <td>IKJ</td>\n",
       "      <td>3</td>\n",
       "      <td>108</td>\n",
       "      <td>1.150200</td>\n",
       "      <td>1482910</td>\n",
       "      <td>7.756340e-07</td>\n",
       "      <td>8.618160e-08</td>\n",
       "      <td>6</td>\n",
       "      <td>6.962043e+07</td>\n",
       "      <td>0.052341</td>\n",
       "    </tr>\n",
       "    <tr>\n",
       "      <th>21</th>\n",
       "      <td>JKI</td>\n",
       "      <td>3</td>\n",
       "      <td>108</td>\n",
       "      <td>1.124360</td>\n",
       "      <td>1482910</td>\n",
       "      <td>7.582120e-07</td>\n",
       "      <td>8.424580e-08</td>\n",
       "      <td>6</td>\n",
       "      <td>7.122017e+07</td>\n",
       "      <td>0.053544</td>\n",
       "    </tr>\n",
       "    <tr>\n",
       "      <th>24</th>\n",
       "      <td>JKI</td>\n",
       "      <td>4</td>\n",
       "      <td>192</td>\n",
       "      <td>1.111990</td>\n",
       "      <td>1048575</td>\n",
       "      <td>1.060480e-06</td>\n",
       "      <td>6.627980e-08</td>\n",
       "      <td>8</td>\n",
       "      <td>1.207004e+08</td>\n",
       "      <td>0.091212</td>\n",
       "    </tr>\n",
       "    <tr>\n",
       "      <th>25</th>\n",
       "      <td>IKJ</td>\n",
       "      <td>4</td>\n",
       "      <td>192</td>\n",
       "      <td>0.992291</td>\n",
       "      <td>1048575</td>\n",
       "      <td>9.463240e-07</td>\n",
       "      <td>5.914520e-08</td>\n",
       "      <td>8</td>\n",
       "      <td>1.352603e+08</td>\n",
       "      <td>0.102215</td>\n",
       "    </tr>\n",
       "    <tr>\n",
       "      <th>27</th>\n",
       "      <td>JKI</td>\n",
       "      <td>5</td>\n",
       "      <td>300</td>\n",
       "      <td>0.842097</td>\n",
       "      <td>741455</td>\n",
       "      <td>1.135740e-06</td>\n",
       "      <td>4.542940e-08</td>\n",
       "      <td>10</td>\n",
       "      <td>2.201218e+08</td>\n",
       "      <td>0.172520</td>\n",
       "    </tr>\n",
       "    <tr>\n",
       "      <th>28</th>\n",
       "      <td>IKJ</td>\n",
       "      <td>5</td>\n",
       "      <td>300</td>\n",
       "      <td>0.770835</td>\n",
       "      <td>741455</td>\n",
       "      <td>1.039620e-06</td>\n",
       "      <td>4.158500e-08</td>\n",
       "      <td>10</td>\n",
       "      <td>2.404713e+08</td>\n",
       "      <td>0.188469</td>\n",
       "    </tr>\n",
       "  </tbody>\n",
       "</table>\n",
       "</div>"
      ],
      "text/plain": [
       "   Algorithm  Size  Total bytes  Total time[us]     Tests  Time per test  \\\n",
       "6        JKI     1           12        6.615810   8388607   7.886660e-07   \n",
       "0        JKI     1           12       13.172300  16777216   7.851310e-07   \n",
       "1        IKJ     1           12       13.062200  16777216   7.785700e-07   \n",
       "4        IKJ     1           12        8.919370  11863283   7.518470e-07   \n",
       "7        IKJ     1           12        6.167200   8388607   7.351880e-07   \n",
       "3        JKI     1           12        8.601580  11863283   7.250590e-07   \n",
       "15       JKI     2           48        2.357230   2965820   7.948000e-07   \n",
       "13       IKJ     2           48        3.297770   4194303   7.862510e-07   \n",
       "16       IKJ     2           48        2.332520   2965820   7.864690e-07   \n",
       "12       JKI     2           48        3.286300   4194303   7.835150e-07   \n",
       "9        JKI     2           48        4.455160   5931641   7.510840e-07   \n",
       "10       IKJ     2           48        4.408140   5931641   7.431570e-07   \n",
       "18       JKI     3          108        1.744700   2097151   8.319370e-07   \n",
       "19       IKJ     3          108        1.656010   2097151   7.896480e-07   \n",
       "22       IKJ     3          108        1.150200   1482910   7.756340e-07   \n",
       "21       JKI     3          108        1.124360   1482910   7.582120e-07   \n",
       "24       JKI     4          192        1.111990   1048575   1.060480e-06   \n",
       "25       IKJ     4          192        0.992291   1048575   9.463240e-07   \n",
       "27       JKI     5          300        0.842097    741455   1.135740e-06   \n",
       "28       IKJ     5          300        0.770835    741455   1.039620e-06   \n",
       "\n",
       "    Time per elem  Ops per output  Ops per second  Parallel speedup  \n",
       "6    7.886660e-07               2    2.535928e+06          0.002853  \n",
       "0    7.851310e-07               2    2.547346e+06          0.002867  \n",
       "1    7.785700e-07               2    2.568812e+06          0.002891  \n",
       "4    7.518470e-07               2    2.660116e+06          0.002995  \n",
       "7    7.351880e-07               2    2.720393e+06          0.003061  \n",
       "3    7.250590e-07               2    2.758396e+06          0.003106  \n",
       "15   1.987000e-07               4    2.013085e+07          0.016354  \n",
       "13   1.965630e-07               4    2.034971e+07          0.016521  \n",
       "16   1.966170e-07               4    2.034412e+07          0.016527  \n",
       "12   1.958790e-07               4    2.042077e+07          0.016579  \n",
       "9    1.877710e-07               4    2.130254e+07          0.017292  \n",
       "10   1.857890e-07               4    2.152980e+07          0.017477  \n",
       "18   9.243740e-08               6    6.490879e+07          0.048617  \n",
       "19   8.773870e-08               6    6.838487e+07          0.051220  \n",
       "22   8.618160e-08               6    6.962043e+07          0.052341  \n",
       "21   8.424580e-08               6    7.122017e+07          0.053544  \n",
       "24   6.627980e-08               8    1.207004e+08          0.091212  \n",
       "25   5.914520e-08               8    1.352603e+08          0.102215  \n",
       "27   4.542940e-08              10    2.201218e+08          0.172520  \n",
       "28   4.158500e-08              10    2.404713e+08          0.188469  "
      ]
     },
     "execution_count": 211,
     "metadata": {},
     "output_type": "execute_result"
    }
   ],
   "source": [
    "data_speedup_sorted.head(20)"
   ]
  },
  {
   "cell_type": "markdown",
   "metadata": {},
   "source": [
    "### Najlepsze przyśpieszenie"
   ]
  },
  {
   "cell_type": "code",
   "execution_count": 212,
   "metadata": {},
   "outputs": [
    {
     "data": {
      "text/html": [
       "<div>\n",
       "<style scoped>\n",
       "    .dataframe tbody tr th:only-of-type {\n",
       "        vertical-align: middle;\n",
       "    }\n",
       "\n",
       "    .dataframe tbody tr th {\n",
       "        vertical-align: top;\n",
       "    }\n",
       "\n",
       "    .dataframe thead th {\n",
       "        text-align: right;\n",
       "    }\n",
       "</style>\n",
       "<table border=\"1\" class=\"dataframe\">\n",
       "  <thead>\n",
       "    <tr style=\"text-align: right;\">\n",
       "      <th></th>\n",
       "      <th>Algorithm</th>\n",
       "      <th>Size</th>\n",
       "      <th>Total bytes</th>\n",
       "      <th>Total time[us]</th>\n",
       "      <th>Tests</th>\n",
       "      <th>Time per test</th>\n",
       "      <th>Time per elem</th>\n",
       "      <th>Ops per output</th>\n",
       "      <th>Ops per second</th>\n",
       "      <th>Parallel speedup</th>\n",
       "    </tr>\n",
       "  </thead>\n",
       "  <tbody>\n",
       "    <tr>\n",
       "      <th>112</th>\n",
       "      <td>IKJ</td>\n",
       "      <td>609</td>\n",
       "      <td>4450572</td>\n",
       "      <td>3.74369</td>\n",
       "      <td>45</td>\n",
       "      <td>0.083193</td>\n",
       "      <td>2.243120e-07</td>\n",
       "      <td>1218</td>\n",
       "      <td>5.429937e+09</td>\n",
       "      <td>6.073460</td>\n",
       "    </tr>\n",
       "    <tr>\n",
       "      <th>106</th>\n",
       "      <td>IKJ</td>\n",
       "      <td>431</td>\n",
       "      <td>2229132</td>\n",
       "      <td>2.55925</td>\n",
       "      <td>90</td>\n",
       "      <td>0.028436</td>\n",
       "      <td>1.530790e-07</td>\n",
       "      <td>862</td>\n",
       "      <td>5.631079e+09</td>\n",
       "      <td>6.228111</td>\n",
       "    </tr>\n",
       "    <tr>\n",
       "      <th>115</th>\n",
       "      <td>IKJ</td>\n",
       "      <td>724</td>\n",
       "      <td>6290112</td>\n",
       "      <td>4.12074</td>\n",
       "      <td>31</td>\n",
       "      <td>0.132927</td>\n",
       "      <td>2.535930e-07</td>\n",
       "      <td>1448</td>\n",
       "      <td>5.709937e+09</td>\n",
       "      <td>6.379474</td>\n",
       "    </tr>\n",
       "    <tr>\n",
       "      <th>118</th>\n",
       "      <td>IKJ</td>\n",
       "      <td>861</td>\n",
       "      <td>8895852</td>\n",
       "      <td>4.88794</td>\n",
       "      <td>22</td>\n",
       "      <td>0.222179</td>\n",
       "      <td>2.997070e-07</td>\n",
       "      <td>1722</td>\n",
       "      <td>5.745612e+09</td>\n",
       "      <td>6.524506</td>\n",
       "    </tr>\n",
       "    <tr>\n",
       "      <th>109</th>\n",
       "      <td>IKJ</td>\n",
       "      <td>512</td>\n",
       "      <td>3145728</td>\n",
       "      <td>3.00899</td>\n",
       "      <td>63</td>\n",
       "      <td>0.047762</td>\n",
       "      <td>1.821960e-07</td>\n",
       "      <td>1024</td>\n",
       "      <td>5.620321e+09</td>\n",
       "      <td>7.370140</td>\n",
       "    </tr>\n",
       "    <tr>\n",
       "      <th>124</th>\n",
       "      <td>IKJ</td>\n",
       "      <td>1218</td>\n",
       "      <td>17802288</td>\n",
       "      <td>6.87501</td>\n",
       "      <td>11</td>\n",
       "      <td>0.625001</td>\n",
       "      <td>4.212950e-07</td>\n",
       "      <td>2436</td>\n",
       "      <td>5.782172e+09</td>\n",
       "      <td>7.383947</td>\n",
       "    </tr>\n",
       "    <tr>\n",
       "      <th>127</th>\n",
       "      <td>IKJ</td>\n",
       "      <td>1448</td>\n",
       "      <td>25160448</td>\n",
       "      <td>7.40948</td>\n",
       "      <td>7</td>\n",
       "      <td>1.058500</td>\n",
       "      <td>5.048390e-07</td>\n",
       "      <td>2896</td>\n",
       "      <td>5.736482e+09</td>\n",
       "      <td>7.886633</td>\n",
       "    </tr>\n",
       "    <tr>\n",
       "      <th>121</th>\n",
       "      <td>IKJ</td>\n",
       "      <td>1024</td>\n",
       "      <td>12582912</td>\n",
       "      <td>5.58512</td>\n",
       "      <td>15</td>\n",
       "      <td>0.372341</td>\n",
       "      <td>3.550930e-07</td>\n",
       "      <td>2048</td>\n",
       "      <td>5.767503e+09</td>\n",
       "      <td>8.397772</td>\n",
       "    </tr>\n",
       "    <tr>\n",
       "      <th>130</th>\n",
       "      <td>IKJ</td>\n",
       "      <td>1722</td>\n",
       "      <td>35583408</td>\n",
       "      <td>8.85893</td>\n",
       "      <td>5</td>\n",
       "      <td>1.771790</td>\n",
       "      <td>5.975100e-07</td>\n",
       "      <td>3444</td>\n",
       "      <td>5.763920e+09</td>\n",
       "      <td>11.688206</td>\n",
       "    </tr>\n",
       "    <tr>\n",
       "      <th>133</th>\n",
       "      <td>IKJ</td>\n",
       "      <td>2048</td>\n",
       "      <td>50331648</td>\n",
       "      <td>8.91374</td>\n",
       "      <td>3</td>\n",
       "      <td>2.971250</td>\n",
       "      <td>7.084000e-07</td>\n",
       "      <td>4096</td>\n",
       "      <td>5.782044e+09</td>\n",
       "      <td>33.508329</td>\n",
       "    </tr>\n",
       "  </tbody>\n",
       "</table>\n",
       "</div>"
      ],
      "text/plain": [
       "    Algorithm  Size  Total bytes  Total time[us]  Tests  Time per test  \\\n",
       "112       IKJ   609      4450572         3.74369     45       0.083193   \n",
       "106       IKJ   431      2229132         2.55925     90       0.028436   \n",
       "115       IKJ   724      6290112         4.12074     31       0.132927   \n",
       "118       IKJ   861      8895852         4.88794     22       0.222179   \n",
       "109       IKJ   512      3145728         3.00899     63       0.047762   \n",
       "124       IKJ  1218     17802288         6.87501     11       0.625001   \n",
       "127       IKJ  1448     25160448         7.40948      7       1.058500   \n",
       "121       IKJ  1024     12582912         5.58512     15       0.372341   \n",
       "130       IKJ  1722     35583408         8.85893      5       1.771790   \n",
       "133       IKJ  2048     50331648         8.91374      3       2.971250   \n",
       "\n",
       "     Time per elem  Ops per output  Ops per second  Parallel speedup  \n",
       "112   2.243120e-07            1218    5.429937e+09          6.073460  \n",
       "106   1.530790e-07             862    5.631079e+09          6.228111  \n",
       "115   2.535930e-07            1448    5.709937e+09          6.379474  \n",
       "118   2.997070e-07            1722    5.745612e+09          6.524506  \n",
       "109   1.821960e-07            1024    5.620321e+09          7.370140  \n",
       "124   4.212950e-07            2436    5.782172e+09          7.383947  \n",
       "127   5.048390e-07            2896    5.736482e+09          7.886633  \n",
       "121   3.550930e-07            2048    5.767503e+09          8.397772  \n",
       "130   5.975100e-07            3444    5.763920e+09         11.688206  \n",
       "133   7.084000e-07            4096    5.782044e+09         33.508329  "
      ]
     },
     "execution_count": 212,
     "metadata": {},
     "output_type": "execute_result"
    }
   ],
   "source": [
    "data_speedup_sorted.tail(10)"
   ]
  },
  {
   "cell_type": "markdown",
   "metadata": {},
   "source": [
    "Algorytm IKJ definitywnie dominuje nad metodami iteracyjnymi dla dużych macierzy. Im większa macierz tym większy zysk."
   ]
  },
  {
   "cell_type": "markdown",
   "metadata": {},
   "source": [
    "## Inne analizy\n",
    "### Analiza warunków lokalnego czasowo dostępu do danych w pamięci podręcznej\n",
    "L3 na moim systemie ma rozmiar 8MB<br>\n",
    "Potrzeba załadować 3 macierze -> 8MB/3 = 2.66MB na macierz<br>\n",
    "Float ma 4B -> 2.66MB/4B = 666666 elementów<br>\n",
    "Rozmiar boku macierzy: $\\sqrt{666666}$ = 816<br>\n",
    "Powyżej tego rozmiaru lokalność czasowa nie jest zapewniona\n",
    "\n",
    "### Analiza warunków lokalnego przestrzennie dostępu do danych\n",
    "64 wpisy \\* 4 KB (strona) \\* 4 (rdzenie) = 1MB   ->  262144 elementy  -> 87381 elementów na macierz -> 295 rozmiar boku<br>\n",
    "1536 wpisów \\* 4 KB (strona) = 6MB<br>\n",
    "6MB + 1 MB = 7Mb -> 1835008 elementów -> 611669 elementów na macierz -> 782 rozmiar boku<br>\n",
    "<br>\n",
    "Powyżej 1MB (n=295) lokalność przestrzenna, korzystając tylko z L1 TLB, nie jest zapewniona<br>\n",
    "Powyżej 7MB (n=782) lokalność przestrzenna nie jest zapewniona\n",
    "\n",
    "\n",
    "\n",
    "### Analiza obciążenia\n",
    "Problem: nawet przy macierzach 1 elementowych wszystkie rdzenie są wykorzystywane\n",
    "![Obciążenie](img/1elem4cores.png)\n",
    "\n",
    "Zamiast mierzyć równomiernosć obciążenia postanowiłem wyznaczyć minimalny rozmiar instancji, który pozwala na wydajne zrównologlenie (50% optymalnego przy 4 rdzeniach)\n",
    "\n"
   ]
  },
  {
   "cell_type": "markdown",
   "metadata": {},
   "source": [
    "## Analiza wydajności zrównoleglania"
   ]
  },
  {
   "cell_type": "code",
   "execution_count": 107,
   "metadata": {},
   "outputs": [
    {
     "data": {
      "text/plain": [
       "Index(['Algorithm', 'Size', 'Total bytes', 'Time[us]', 'Tests', 'Num threads'], dtype='object')"
      ]
     },
     "execution_count": 107,
     "metadata": {},
     "output_type": "execute_result"
    }
   ],
   "source": [
    "data2 = pd.read_csv(\"Dane2.csv\")\n",
    "data2.columns"
   ]
  },
  {
   "cell_type": "markdown",
   "metadata": {},
   "source": [
    "### Tabela zbiorcza wyników"
   ]
  },
  {
   "cell_type": "code",
   "execution_count": 108,
   "metadata": {},
   "outputs": [
    {
     "data": {
      "text/html": [
       "<div>\n",
       "<style scoped>\n",
       "    .dataframe tbody tr th:only-of-type {\n",
       "        vertical-align: middle;\n",
       "    }\n",
       "\n",
       "    .dataframe tbody tr th {\n",
       "        vertical-align: top;\n",
       "    }\n",
       "\n",
       "    .dataframe thead th {\n",
       "        text-align: right;\n",
       "    }\n",
       "</style>\n",
       "<table border=\"1\" class=\"dataframe\">\n",
       "  <thead>\n",
       "    <tr style=\"text-align: right;\">\n",
       "      <th></th>\n",
       "      <th></th>\n",
       "      <th></th>\n",
       "      <th>Total bytes</th>\n",
       "      <th>Time[us]</th>\n",
       "      <th>Tests</th>\n",
       "    </tr>\n",
       "    <tr>\n",
       "      <th>Algorithm</th>\n",
       "      <th>Size</th>\n",
       "      <th>Num threads</th>\n",
       "      <th></th>\n",
       "      <th></th>\n",
       "      <th></th>\n",
       "    </tr>\n",
       "  </thead>\n",
       "  <tbody>\n",
       "    <tr>\n",
       "      <th rowspan=\"12\" valign=\"top\">IKJ</th>\n",
       "      <th rowspan=\"2\" valign=\"top\">2</th>\n",
       "      <th>1</th>\n",
       "      <td>48.0</td>\n",
       "      <td>1.743642e+05</td>\n",
       "      <td>4194304.0</td>\n",
       "    </tr>\n",
       "    <tr>\n",
       "      <th>2</th>\n",
       "      <td>48.0</td>\n",
       "      <td>1.306837e+06</td>\n",
       "      <td>4194304.0</td>\n",
       "    </tr>\n",
       "    <tr>\n",
       "      <th rowspan=\"2\" valign=\"top\">16</th>\n",
       "      <th>1</th>\n",
       "      <td>3072.0</td>\n",
       "      <td>7.286591e+05</td>\n",
       "      <td>131072.0</td>\n",
       "    </tr>\n",
       "    <tr>\n",
       "      <th>4</th>\n",
       "      <td>3072.0</td>\n",
       "      <td>3.451305e+05</td>\n",
       "      <td>131072.0</td>\n",
       "    </tr>\n",
       "    <tr>\n",
       "      <th rowspan=\"2\" valign=\"top\">32</th>\n",
       "      <th>1</th>\n",
       "      <td>12288.0</td>\n",
       "      <td>7.130650e+05</td>\n",
       "      <td>16384.0</td>\n",
       "    </tr>\n",
       "    <tr>\n",
       "      <th>4</th>\n",
       "      <td>12288.0</td>\n",
       "      <td>2.671506e+05</td>\n",
       "      <td>16384.0</td>\n",
       "    </tr>\n",
       "    <tr>\n",
       "      <th rowspan=\"2\" valign=\"top\">64</th>\n",
       "      <th>1</th>\n",
       "      <td>49152.0</td>\n",
       "      <td>7.100160e+05</td>\n",
       "      <td>2048.0</td>\n",
       "    </tr>\n",
       "    <tr>\n",
       "      <th>4</th>\n",
       "      <td>49152.0</td>\n",
       "      <td>2.054820e+05</td>\n",
       "      <td>2048.0</td>\n",
       "    </tr>\n",
       "    <tr>\n",
       "      <th rowspan=\"2\" valign=\"top\">128</th>\n",
       "      <th>1</th>\n",
       "      <td>196608.0</td>\n",
       "      <td>7.325422e+05</td>\n",
       "      <td>256.0</td>\n",
       "    </tr>\n",
       "    <tr>\n",
       "      <th>4</th>\n",
       "      <td>196608.0</td>\n",
       "      <td>2.150827e+05</td>\n",
       "      <td>256.0</td>\n",
       "    </tr>\n",
       "    <tr>\n",
       "      <th rowspan=\"2\" valign=\"top\">256</th>\n",
       "      <th>1</th>\n",
       "      <td>786432.0</td>\n",
       "      <td>7.274133e+05</td>\n",
       "      <td>32.0</td>\n",
       "    </tr>\n",
       "    <tr>\n",
       "      <th>4</th>\n",
       "      <td>786432.0</td>\n",
       "      <td>2.216311e+05</td>\n",
       "      <td>32.0</td>\n",
       "    </tr>\n",
       "    <tr>\n",
       "      <th rowspan=\"8\" valign=\"top\">JKI</th>\n",
       "      <th rowspan=\"2\" valign=\"top\">16</th>\n",
       "      <th>1</th>\n",
       "      <td>3072.0</td>\n",
       "      <td>7.669950e+05</td>\n",
       "      <td>131072.0</td>\n",
       "    </tr>\n",
       "    <tr>\n",
       "      <th>4</th>\n",
       "      <td>3072.0</td>\n",
       "      <td>4.396552e+06</td>\n",
       "      <td>131072.0</td>\n",
       "    </tr>\n",
       "    <tr>\n",
       "      <th rowspan=\"2\" valign=\"top\">64</th>\n",
       "      <th>1</th>\n",
       "      <td>49152.0</td>\n",
       "      <td>8.109595e+05</td>\n",
       "      <td>2048.0</td>\n",
       "    </tr>\n",
       "    <tr>\n",
       "      <th>4</th>\n",
       "      <td>49152.0</td>\n",
       "      <td>1.105847e+06</td>\n",
       "      <td>2048.0</td>\n",
       "    </tr>\n",
       "    <tr>\n",
       "      <th rowspan=\"2\" valign=\"top\">128</th>\n",
       "      <th>1</th>\n",
       "      <td>196608.0</td>\n",
       "      <td>9.636362e+05</td>\n",
       "      <td>256.0</td>\n",
       "    </tr>\n",
       "    <tr>\n",
       "      <th>4</th>\n",
       "      <td>196608.0</td>\n",
       "      <td>8.902897e+05</td>\n",
       "      <td>256.0</td>\n",
       "    </tr>\n",
       "    <tr>\n",
       "      <th rowspan=\"2\" valign=\"top\">256</th>\n",
       "      <th>1</th>\n",
       "      <td>786432.0</td>\n",
       "      <td>1.278299e+06</td>\n",
       "      <td>32.0</td>\n",
       "    </tr>\n",
       "    <tr>\n",
       "      <th>4</th>\n",
       "      <td>786432.0</td>\n",
       "      <td>4.517852e+05</td>\n",
       "      <td>32.0</td>\n",
       "    </tr>\n",
       "  </tbody>\n",
       "</table>\n",
       "</div>"
      ],
      "text/plain": [
       "                            Total bytes      Time[us]      Tests\n",
       "Algorithm Size Num threads                                      \n",
       "IKJ       2    1                   48.0  1.743642e+05  4194304.0\n",
       "               2                   48.0  1.306837e+06  4194304.0\n",
       "          16   1                 3072.0  7.286591e+05   131072.0\n",
       "               4                 3072.0  3.451305e+05   131072.0\n",
       "          32   1                12288.0  7.130650e+05    16384.0\n",
       "               4                12288.0  2.671506e+05    16384.0\n",
       "          64   1                49152.0  7.100160e+05     2048.0\n",
       "               4                49152.0  2.054820e+05     2048.0\n",
       "          128  1               196608.0  7.325422e+05      256.0\n",
       "               4               196608.0  2.150827e+05      256.0\n",
       "          256  1               786432.0  7.274133e+05       32.0\n",
       "               4               786432.0  2.216311e+05       32.0\n",
       "JKI       16   1                 3072.0  7.669950e+05   131072.0\n",
       "               4                 3072.0  4.396552e+06   131072.0\n",
       "          64   1                49152.0  8.109595e+05     2048.0\n",
       "               4                49152.0  1.105847e+06     2048.0\n",
       "          128  1               196608.0  9.636362e+05      256.0\n",
       "               4               196608.0  8.902897e+05      256.0\n",
       "          256  1               786432.0  1.278299e+06       32.0\n",
       "               4               786432.0  4.517852e+05       32.0"
      ]
     },
     "execution_count": 108,
     "metadata": {},
     "output_type": "execute_result"
    }
   ],
   "source": [
    "data2.groupby(['Algorithm', 'Size', 'Num threads']).mean()"
   ]
  },
  {
   "cell_type": "markdown",
   "metadata": {},
   "source": [
    "Tabelka przedstawia czasy mnożenia macierzy o rozmiarach 'size' 'test's razy. Ilość testów została dopasowana do rozmiaru, aby zapewnić czas wykonywania niezależny od rozmiaru (choć nie ma to większego wpływu na analizę)."
   ]
  },
  {
   "cell_type": "markdown",
   "metadata": {},
   "source": [
    "### Efektywność paralelizacji"
   ]
  },
  {
   "cell_type": "code",
   "execution_count": 43,
   "metadata": {},
   "outputs": [
    {
     "data": {
      "text/html": [
       "<div>\n",
       "<style scoped>\n",
       "    .dataframe tbody tr th:only-of-type {\n",
       "        vertical-align: middle;\n",
       "    }\n",
       "\n",
       "    .dataframe tbody tr th {\n",
       "        vertical-align: top;\n",
       "    }\n",
       "\n",
       "    .dataframe thead th {\n",
       "        text-align: right;\n",
       "    }\n",
       "</style>\n",
       "<table border=\"1\" class=\"dataframe\">\n",
       "  <thead>\n",
       "    <tr style=\"text-align: right;\">\n",
       "      <th></th>\n",
       "      <th>Algorithm</th>\n",
       "      <th>Size</th>\n",
       "      <th>Num threads</th>\n",
       "      <th>Efficiency</th>\n",
       "    </tr>\n",
       "  </thead>\n",
       "  <tbody>\n",
       "    <tr>\n",
       "      <th>1</th>\n",
       "      <td>IKJ</td>\n",
       "      <td>2</td>\n",
       "      <td>2</td>\n",
       "      <td>0.066712</td>\n",
       "    </tr>\n",
       "    <tr>\n",
       "      <th>3</th>\n",
       "      <td>IKJ</td>\n",
       "      <td>16</td>\n",
       "      <td>4</td>\n",
       "      <td>0.527814</td>\n",
       "    </tr>\n",
       "    <tr>\n",
       "      <th>5</th>\n",
       "      <td>IKJ</td>\n",
       "      <td>32</td>\n",
       "      <td>4</td>\n",
       "      <td>0.667287</td>\n",
       "    </tr>\n",
       "    <tr>\n",
       "      <th>7</th>\n",
       "      <td>IKJ</td>\n",
       "      <td>64</td>\n",
       "      <td>4</td>\n",
       "      <td>0.863842</td>\n",
       "    </tr>\n",
       "    <tr>\n",
       "      <th>9</th>\n",
       "      <td>IKJ</td>\n",
       "      <td>128</td>\n",
       "      <td>4</td>\n",
       "      <td>0.851466</td>\n",
       "    </tr>\n",
       "    <tr>\n",
       "      <th>11</th>\n",
       "      <td>IKJ</td>\n",
       "      <td>256</td>\n",
       "      <td>4</td>\n",
       "      <td>0.820523</td>\n",
       "    </tr>\n",
       "    <tr>\n",
       "      <th>13</th>\n",
       "      <td>JKI</td>\n",
       "      <td>16</td>\n",
       "      <td>4</td>\n",
       "      <td>0.043613</td>\n",
       "    </tr>\n",
       "    <tr>\n",
       "      <th>15</th>\n",
       "      <td>JKI</td>\n",
       "      <td>64</td>\n",
       "      <td>4</td>\n",
       "      <td>0.183335</td>\n",
       "    </tr>\n",
       "    <tr>\n",
       "      <th>17</th>\n",
       "      <td>JKI</td>\n",
       "      <td>128</td>\n",
       "      <td>4</td>\n",
       "      <td>0.270596</td>\n",
       "    </tr>\n",
       "    <tr>\n",
       "      <th>19</th>\n",
       "      <td>JKI</td>\n",
       "      <td>256</td>\n",
       "      <td>4</td>\n",
       "      <td>0.707360</td>\n",
       "    </tr>\n",
       "  </tbody>\n",
       "</table>\n",
       "</div>"
      ],
      "text/plain": [
       "   Algorithm  Size  Num threads  Efficiency\n",
       "1        IKJ     2            2    0.066712\n",
       "3        IKJ    16            4    0.527814\n",
       "5        IKJ    32            4    0.667287\n",
       "7        IKJ    64            4    0.863842\n",
       "9        IKJ   128            4    0.851466\n",
       "11       IKJ   256            4    0.820523\n",
       "13       JKI    16            4    0.043613\n",
       "15       JKI    64            4    0.183335\n",
       "17       JKI   128            4    0.270596\n",
       "19       JKI   256            4    0.707360"
      ]
     },
     "execution_count": 43,
     "metadata": {},
     "output_type": "execute_result"
    }
   ],
   "source": [
    "data2 = data2.groupby(['Algorithm', 'Size', 'Num threads'], as_index=False).mean()\n",
    "data2['Time per core'] = data2['Time[us]'] * data2['Num threads']\n",
    "multi_threaded = data2.loc[data2['Num threads'] > 1].copy()\n",
    "single_threaded = data2.loc[data2['Num threads'] == 1].copy()\n",
    "multi_threaded['Efficiency'] = single_threaded['Time per core'].values/multi_threaded['Time per core'].values\n",
    "multi_threaded[['Algorithm', 'Size', 'Num threads', 'Efficiency']]"
   ]
  },
  {
   "cell_type": "markdown",
   "metadata": {},
   "source": [
    "Wyjaśnienie:<br>\n",
    "Wydajność (efficiency) na poziomie 1/liczba wątków oznacza, że wprowadzenie wielowątkowości nie przyśpieszyło programu<br>\n",
    "Wydajność mniejsza niż 1/liczba wątków oznacza, że wielowątkowość spowolniła działanie programu<br>\n",
    "Wydajność bliska 1 oznacza przyśpieszenie bliskie teoretycznemu maksimum<br>"
   ]
  },
  {
   "cell_type": "markdown",
   "metadata": {},
   "source": [
    "* Algorytm IKJ osiąga zadowalający poziom paralelizacji już przy macierzach o rozmiarze 16\n",
    "* Algorytm JKI potrzebuje macierzy do tego macierzy o rozmiarze 128-256"
   ]
  },
  {
   "cell_type": "markdown",
   "metadata": {},
   "source": [
    "# GPU"
   ]
  },
  {
   "cell_type": "markdown",
   "metadata": {},
   "source": [
    "## Analiza ilości dostępów do pamięci dla GPU"
   ]
  },
  {
   "cell_type": "markdown",
   "metadata": {},
   "source": [
    "#### Założenia\n",
    "* Załóżmy rozmiar boku macierzy: n\n",
    "* Założmy rozmiar bloku: b\n",
    "* Każdy wątek oblicza 2 elementy\n",
    "* Każdy blok oblicza b\\*b*2 elementów\n",
    "\n",
    "Ilość bloków w macierzy wyjściowej: n/b * n/(2*b)<br>\n",
    "Ilość odczytywanych bloków potrzebnych do wyliczenia jednego bloku wyjściowego:  n/b lub n/(2*b)<br>\n",
    "Ilość elementów odczytywanych przez blok = ilość wątków w bloku<br>\n",
    "Odczytywane są 2 macierze\n",
    "\n",
    "$$({n \\over b} * {n \\over 2b}) * ( {n \\over b} + {n \\over 2b} ) * (b*b*2)  =  {n^3 \\over b} * (1  + {1 \\over 2} )$$"
   ]
  },
  {
   "cell_type": "code",
   "execution_count": 223,
   "metadata": {},
   "outputs": [],
   "source": [
    "def reads_blocked(n, b):\n",
    "    from math import ceil\n",
    "    return ceil(n/b) * ceil(n/2/b) * ( ceil(n/b) + ceil(n/2/b) ) * b * b * 2\n",
    "def reads_naive(n):\n",
    "    return n**3\n",
    "\n",
    "def gcma(n, reads = None):\n",
    "    if not reads:\n",
    "        reads = n**3\n",
    "    return n**3*2/reads"
   ]
  },
  {
   "cell_type": "markdown",
   "metadata": {},
   "source": [
    "Przykładowo dla macierzy o rozmiarze 512 i bloku o rozmiarze 32"
   ]
  },
  {
   "cell_type": "code",
   "execution_count": 231,
   "metadata": {},
   "outputs": [
    {
     "name": "stdout",
     "output_type": "stream",
     "text": [
      "Blokowo 6291456, bez bloków 134217728, oszczędność 21.3333\n"
     ]
    }
   ],
   "source": [
    "n = 512\n",
    "b = 32\n",
    "reads_blocked_val = reads_blocked(n, b)\n",
    "reads_naive_val = reads_naive(n)\n",
    "print(\"Blokowo {}, bez bloków {}, oszczędność {:.4f}\".format(reads_blocked_val, reads_naive_val, reads_naive_val/reads_blocked_val))"
   ]
  },
  {
   "cell_type": "markdown",
   "metadata": {},
   "source": [
    "Oszczędność odczytów przekłada się bezpośrednio na ilość dostępów do pamięci globalnej."
   ]
  },
  {
   "cell_type": "code",
   "execution_count": 232,
   "metadata": {},
   "outputs": [
    {
     "name": "stdout",
     "output_type": "stream",
     "text": [
      "GCMA blokowo 42.6667, bez bloków 2.0000\n"
     ]
    }
   ],
   "source": [
    "print(\"GCMA blokowo {:.4f}, bez bloków {:.4f}\".format(gcma(n,reads_blocked(n,b)), gcma(n)))"
   ]
  },
  {
   "cell_type": "markdown",
   "metadata": {},
   "source": [
    "### Szybkość przetwarzania GPU"
   ]
  },
  {
   "cell_type": "code",
   "execution_count": 238,
   "metadata": {},
   "outputs": [
    {
     "data": {
      "text/html": [
       "<div>\n",
       "<style scoped>\n",
       "    .dataframe tbody tr th:only-of-type {\n",
       "        vertical-align: middle;\n",
       "    }\n",
       "\n",
       "    .dataframe tbody tr th {\n",
       "        vertical-align: top;\n",
       "    }\n",
       "\n",
       "    .dataframe thead th {\n",
       "        text-align: right;\n",
       "    }\n",
       "</style>\n",
       "<table border=\"1\" class=\"dataframe\">\n",
       "  <thead>\n",
       "    <tr style=\"text-align: right;\">\n",
       "      <th></th>\n",
       "      <th>Size</th>\n",
       "      <th>Block size</th>\n",
       "      <th>Iters</th>\n",
       "      <th>Time</th>\n",
       "      <th>Time per test</th>\n",
       "      <th>Time per elem</th>\n",
       "      <th>Ops per second</th>\n",
       "    </tr>\n",
       "  </thead>\n",
       "  <tbody>\n",
       "    <tr>\n",
       "      <th>4</th>\n",
       "      <td>4096</td>\n",
       "      <td>8</td>\n",
       "      <td>20</td>\n",
       "      <td>16.05000</td>\n",
       "      <td>0.802500</td>\n",
       "      <td>4.783273e-08</td>\n",
       "      <td>1.712635e+11</td>\n",
       "    </tr>\n",
       "    <tr>\n",
       "      <th>8</th>\n",
       "      <td>2048</td>\n",
       "      <td>8</td>\n",
       "      <td>100</td>\n",
       "      <td>9.62773</td>\n",
       "      <td>0.096277</td>\n",
       "      <td>2.295430e-08</td>\n",
       "      <td>1.784415e+11</td>\n",
       "    </tr>\n",
       "    <tr>\n",
       "      <th>3</th>\n",
       "      <td>4096</td>\n",
       "      <td>16</td>\n",
       "      <td>20</td>\n",
       "      <td>6.87242</td>\n",
       "      <td>0.343621</td>\n",
       "      <td>2.048141e-08</td>\n",
       "      <td>3.999725e+11</td>\n",
       "    </tr>\n",
       "    <tr>\n",
       "      <th>7</th>\n",
       "      <td>2048</td>\n",
       "      <td>16</td>\n",
       "      <td>100</td>\n",
       "      <td>4.21795</td>\n",
       "      <td>0.042180</td>\n",
       "      <td>1.005638e-08</td>\n",
       "      <td>4.073038e+11</td>\n",
       "    </tr>\n",
       "    <tr>\n",
       "      <th>1</th>\n",
       "      <td>4096</td>\n",
       "      <td>30</td>\n",
       "      <td>20</td>\n",
       "      <td>3.59133</td>\n",
       "      <td>0.179567</td>\n",
       "      <td>1.070300e-08</td>\n",
       "      <td>7.653931e+11</td>\n",
       "    </tr>\n",
       "    <tr>\n",
       "      <th>0</th>\n",
       "      <td>4096</td>\n",
       "      <td>32</td>\n",
       "      <td>20</td>\n",
       "      <td>3.21624</td>\n",
       "      <td>0.160812</td>\n",
       "      <td>9.585142e-09</td>\n",
       "      <td>8.546561e+11</td>\n",
       "    </tr>\n",
       "    <tr>\n",
       "      <th>2</th>\n",
       "      <td>4096</td>\n",
       "      <td>32</td>\n",
       "      <td>100</td>\n",
       "      <td>16.08440</td>\n",
       "      <td>0.160844</td>\n",
       "      <td>9.587049e-09</td>\n",
       "      <td>8.544860e+11</td>\n",
       "    </tr>\n",
       "    <tr>\n",
       "      <th>5</th>\n",
       "      <td>8192</td>\n",
       "      <td>32</td>\n",
       "      <td>20</td>\n",
       "      <td>25.60860</td>\n",
       "      <td>1.280430</td>\n",
       "      <td>1.907989e-08</td>\n",
       "      <td>8.587050e+11</td>\n",
       "    </tr>\n",
       "    <tr>\n",
       "      <th>6</th>\n",
       "      <td>2048</td>\n",
       "      <td>32</td>\n",
       "      <td>100</td>\n",
       "      <td>2.04758</td>\n",
       "      <td>0.020476</td>\n",
       "      <td>4.881811e-09</td>\n",
       "      <td>8.390329e+11</td>\n",
       "    </tr>\n",
       "  </tbody>\n",
       "</table>\n",
       "</div>"
      ],
      "text/plain": [
       "   Size  Block size  Iters      Time  Time per test  Time per elem  \\\n",
       "4  4096           8     20  16.05000       0.802500   4.783273e-08   \n",
       "8  2048           8    100   9.62773       0.096277   2.295430e-08   \n",
       "3  4096          16     20   6.87242       0.343621   2.048141e-08   \n",
       "7  2048          16    100   4.21795       0.042180   1.005638e-08   \n",
       "1  4096          30     20   3.59133       0.179567   1.070300e-08   \n",
       "0  4096          32     20   3.21624       0.160812   9.585142e-09   \n",
       "2  4096          32    100  16.08440       0.160844   9.587049e-09   \n",
       "5  8192          32     20  25.60860       1.280430   1.907989e-08   \n",
       "6  2048          32    100   2.04758       0.020476   4.881811e-09   \n",
       "\n",
       "   Ops per second  \n",
       "4    1.712635e+11  \n",
       "8    1.784415e+11  \n",
       "3    3.999725e+11  \n",
       "7    4.073038e+11  \n",
       "1    7.653931e+11  \n",
       "0    8.546561e+11  \n",
       "2    8.544860e+11  \n",
       "5    8.587050e+11  \n",
       "6    8.390329e+11  "
      ]
     },
     "execution_count": 238,
     "metadata": {},
     "output_type": "execute_result"
    }
   ],
   "source": [
    "data3 = pd.read_csv(\"Dane3.csv\")\n",
    "data3[\"Time per test\"] = data3['Time']/data3['Iters']\n",
    "data3[\"Time per elem\"] = data3[\"Time per test\"]/data3['Size']**2\n",
    "data3['Ops per second'] = 1/data3['Time per elem']*2*data3['Size']\n",
    "data3.sort_values('Block size', inplace=True)\n",
    "data3"
   ]
  },
  {
   "cell_type": "markdown",
   "metadata": {},
   "source": [
    "### Maksymalna ilość operacji"
   ]
  },
  {
   "cell_type": "code",
   "execution_count": 240,
   "metadata": {},
   "outputs": [
    {
     "name": "stdout",
     "output_type": "stream",
     "text": [
      "Maksymalna wydajność 858.705 GFLOPS\n"
     ]
    }
   ],
   "source": [
    "gpu_max_ops = np.max(data3['Ops per second'].values)\n",
    "print(\"Maksymalna wydajność {:.3f} GFLOPS\".format((gpu_max_ops*1e-9)))"
   ]
  },
  {
   "cell_type": "markdown",
   "metadata": {},
   "source": [
    "Maksymalna wydajność deklarowana przez Nvidię to 11 000 GFLOPS, ale wymaga ona korzystania z Fused Multiply Add, co nie było częścią tego zadania."
   ]
  },
  {
   "cell_type": "markdown",
   "metadata": {},
   "source": [
    "### Zajętość multiprocesora\n",
    "50% - Wynik z kalkulatora CUDA (1024 (32x32) wątki na blok, 8GB pamięci współdzielonej, 22 rejestry).<br>\n",
    "Ograniczeniem prawdopodobnie była ilość rejestrów używana przez wątki.<br>\n",
    "<br>\n",
    "Rozmiar bloku 30x30 był sugerowany przez kalkulator jako zapewniający większą zajętość multiprocesora. Nie przełożyło się to jednak na poprawę wydajności."
   ]
  },
  {
   "cell_type": "markdown",
   "metadata": {},
   "source": [
    "![ZajetoscGPU](img/gpu.png)\n",
    "Zajętość procesora GPU podczas mnożenia macierzy 8192x8192 100 razy."
   ]
  }
 ],
 "metadata": {
  "kernelspec": {
   "display_name": "Python 3",
   "language": "python",
   "name": "python3"
  },
  "language_info": {
   "codemirror_mode": {
    "name": "ipython",
    "version": 3
   },
   "file_extension": ".py",
   "mimetype": "text/x-python",
   "name": "python",
   "nbconvert_exporter": "python",
   "pygments_lexer": "ipython3",
   "version": "3.5.3"
  }
 },
 "nbformat": 4,
 "nbformat_minor": 2
}
